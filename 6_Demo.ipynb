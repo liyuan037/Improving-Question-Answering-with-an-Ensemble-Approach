{
  "nbformat": 4,
  "nbformat_minor": 0,
  "metadata": {
    "colab": {
      "name": "NLP CsQA Demo.ipynb",
      "version": "0.3.2",
      "provenance": [],
      "collapsed_sections": [
        "4nmlIW0FX7Wc",
        "NZg5oAvapesg",
        "A11Xzea-rXdt"
      ],
      "toc_visible": true
    },
    "kernelspec": {
      "name": "python3",
      "display_name": "Python 3"
    },
    "accelerator": "GPU"
  },
  "cells": [
    {
      "metadata": {
        "id": "_gFMMEA0k1OY",
        "colab_type": "text"
      },
      "cell_type": "markdown",
      "source": [
        "# Data and Model Preparation"
      ]
    },
    {
      "metadata": {
        "id": "4nmlIW0FX7Wc",
        "colab_type": "text"
      },
      "cell_type": "markdown",
      "source": [
        "## Prepare Data"
      ]
    },
    {
      "metadata": {
        "id": "UAxVzZ_UX9Nd",
        "colab_type": "code",
        "outputId": "dac66290-2676-45da-a7d6-8b1750a2261a",
        "colab": {
          "base_uri": "https://localhost:8080/",
          "height": 598
        }
      },
      "cell_type": "code",
      "source": [
        "!mkdir data\n",
        "\n",
        "SPLIT_TYPE = 'rand' # @param ['rand', 'qtoken']\n",
        "DATA_URL = r'https://s3.amazonaws.com/commensenseqa/'\n",
        "DATA_TRAIN_URL = DATA_URL+'train_'+SPLIT_TYPE+'_split.jsonl'\n",
        "DATA_VALID_URL = DATA_URL+'dev_'+SPLIT_TYPE+'_split.jsonl'\n",
        "DATA_TEST_URL = DATA_URL+'test_'+SPLIT_TYPE+'_split_no_answers.jsonl'\n",
        "\n",
        "!wget $DATA_TRAIN_URL -O data/train.jsonl\n",
        "!wget $DATA_VALID_URL -O data/dev.jsonl\n",
        "!wget $DATA_TEST_URL -O data/test.jsonl"
      ],
      "execution_count": 0,
      "outputs": [
        {
          "output_type": "stream",
          "text": [
            "--2019-03-17 15:43:49--  https://s3.amazonaws.com/commensenseqa/train_rand_split.jsonl\n",
            "Resolving s3.amazonaws.com (s3.amazonaws.com)... 52.216.9.45\n",
            "Connecting to s3.amazonaws.com (s3.amazonaws.com)|52.216.9.45|:443... connected.\n",
            "HTTP request sent, awaiting response... 200 OK\n",
            "Length: 3513912 (3.4M) [binary/octet-stream]\n",
            "Saving to: ‘data/train.jsonl’\n",
            "\n",
            "data/train.jsonl    100%[===================>]   3.35M  5.76MB/s    in 0.6s    \n",
            "\n",
            "2019-03-17 15:43:55 (5.76 MB/s) - ‘data/train.jsonl’ saved [3513912/3513912]\n",
            "\n",
            "--2019-03-17 15:43:56--  https://s3.amazonaws.com/commensenseqa/dev_rand_split.jsonl\n",
            "Resolving s3.amazonaws.com (s3.amazonaws.com)... 52.216.9.45\n",
            "Connecting to s3.amazonaws.com (s3.amazonaws.com)|52.216.9.45|:443... connected.\n",
            "HTTP request sent, awaiting response... 200 OK\n",
            "Length: 438003 (428K) [binary/octet-stream]\n",
            "Saving to: ‘data/dev.jsonl’\n",
            "\n",
            "data/dev.jsonl      100%[===================>] 427.74K  1.27MB/s    in 0.3s    \n",
            "\n",
            "2019-03-17 15:43:57 (1.27 MB/s) - ‘data/dev.jsonl’ saved [438003/438003]\n",
            "\n",
            "--2019-03-17 15:43:58--  https://s3.amazonaws.com/commensenseqa/test_rand_split_no_answers.jsonl\n",
            "Resolving s3.amazonaws.com (s3.amazonaws.com)... 52.216.16.59\n",
            "Connecting to s3.amazonaws.com (s3.amazonaws.com)|52.216.16.59|:443... connected.\n",
            "HTTP request sent, awaiting response... 200 OK\n",
            "Length: 390221 (381K) [binary/octet-stream]\n",
            "Saving to: ‘data/test.jsonl’\n",
            "\n",
            "data/test.jsonl     100%[===================>] 381.08K  1.15MB/s    in 0.3s    \n",
            "\n",
            "2019-03-17 15:43:59 (1.15 MB/s) - ‘data/test.jsonl’ saved [390221/390221]\n",
            "\n"
          ],
          "name": "stdout"
        }
      ]
    },
    {
      "metadata": {
        "id": "NZg5oAvapesg",
        "colab_type": "text"
      },
      "cell_type": "markdown",
      "source": [
        "## Prepare BERT"
      ]
    },
    {
      "metadata": {
        "id": "VJYCdWIWpg6N",
        "colab_type": "code",
        "outputId": "1c60bdc6-bb79-4a64-e7c4-abbd7aae9630",
        "colab": {
          "base_uri": "https://localhost:8080/",
          "height": 122
        }
      },
      "cell_type": "code",
      "source": [
        "import sys\n",
        "\n",
        "!test -d bert_model || git clone https://github.com/google-research/bert bert_model\n",
        "\n",
        "if not 'bert_model' in sys.path:\n",
        "  sys.path += ['bert_model']"
      ],
      "execution_count": 0,
      "outputs": [
        {
          "output_type": "stream",
          "text": [
            "Cloning into 'bert_model'...\n",
            "remote: Enumerating objects: 317, done.\u001b[K\n",
            "remote: Total 317 (delta 0), reused 0 (delta 0), pack-reused 317\u001b[K\n",
            "Receiving objects: 100% (317/317), 254.91 KiB | 900.00 KiB/s, done.\n",
            "Resolving deltas: 100% (178/178), done.\n"
          ],
          "name": "stdout"
        }
      ]
    },
    {
      "metadata": {
        "id": "zpllytgUx4o1",
        "colab_type": "text"
      },
      "cell_type": "markdown",
      "source": [
        "## Prepare Embedding"
      ]
    },
    {
      "metadata": {
        "id": "-0n56OJRx3-1",
        "colab_type": "code",
        "outputId": "0109645d-d125-4c83-eed2-145ffcfdd074",
        "colab": {
          "base_uri": "https://localhost:8080/",
          "height": 204
        }
      },
      "cell_type": "code",
      "source": [
        "!mkdir embed\n",
        "\n",
        "GLOVE_URL = r'https://s3.eu-west-2.amazonaws.com/csqa-embed/glove_sm.txt'\n",
        "\n",
        "!wget $GLOVE_URL -O embed/glove_sm.txt"
      ],
      "execution_count": 0,
      "outputs": [
        {
          "output_type": "stream",
          "text": [
            "--2019-03-17 15:44:06--  https://s3.eu-west-2.amazonaws.com/csqa-embed/glove_sm.txt\n",
            "Resolving s3.eu-west-2.amazonaws.com (s3.eu-west-2.amazonaws.com)... 52.95.148.8\n",
            "Connecting to s3.eu-west-2.amazonaws.com (s3.eu-west-2.amazonaws.com)|52.95.148.8|:443... connected.\n",
            "HTTP request sent, awaiting response... 200 OK\n",
            "Length: 44697629 (43M) [text/plain]\n",
            "Saving to: ‘embed/glove_sm.txt’\n",
            "\n",
            "embed/glove_sm.txt  100%[===================>]  42.63M  36.0MB/s    in 1.2s    \n",
            "\n",
            "2019-03-17 15:44:08 (36.0 MB/s) - ‘embed/glove_sm.txt’ saved [44697629/44697629]\n",
            "\n"
          ],
          "name": "stdout"
        }
      ]
    },
    {
      "metadata": {
        "id": "9jjC8MuT3vlh",
        "colab_type": "text"
      },
      "cell_type": "markdown",
      "source": [
        "## Prepare Weights"
      ]
    },
    {
      "metadata": {
        "id": "5ZoxlQZm3zkA",
        "colab_type": "code",
        "outputId": "36231c7c-8b60-48ef-e200-d7a438fdafc8",
        "colab": {
          "base_uri": "https://localhost:8080/",
          "height": 1326
        }
      },
      "cell_type": "code",
      "source": [
        "!mkdir ckpt\n",
        "\n",
        "SEMB_URL = r'https://s3.eu-west-2.amazonaws.com/csqa-embed/semb-0.1788.h5'\n",
        "ELMO_URL = r'https://s3.eu-west-2.amazonaws.com/csqa-embed/elmo-0.3333.h5'\n",
        "BERT_URL = r'https://s3.eu-west-2.amazonaws.com/csqa-embed/bert-0.5340.h5'\n",
        "COMB_ALL_URL = r'https://s3.eu-west-2.amazonaws.com/csqa-embed/comb-ALL-0.5736.h5'\n",
        "COMB_AVG_BERT_URL = r'https://s3.eu-west-2.amazonaws.com/csqa-embed/comb.AVG-BERT-0.5558.h5'\n",
        "COMB_AVG_ELMO_URL = r'https://s3.eu-west-2.amazonaws.com/csqa-embed/comb.AVG-ELMo-0.3406.h5'\n",
        "COMB_ELMO_BERT_URL = r'https://s3.eu-west-2.amazonaws.com/csqa-embed/comb.ELMo-BERT-0.5736.h5'\n",
        "\n",
        "!wget $SEMB_URL -O ckpt/semb-0.1788.h5\n",
        "!wget $ELMO_URL -O ckpt/elmo-0.3333.h5\n",
        "!wget $BERT_URL -O ckpt/bert-0.5340.h5\n",
        "!wget $COMB_ALL_URL -O ckpt/comb-ALL-0.5736.h5\n",
        "!wget $COMB_AVG_BERT_URL -O ckpt/comb.AVG-BERT-0.5558.h5\n",
        "!wget $COMB_AVG_ELMO_URL -O ckpt/comb.AVG-ELMo-0.3406.h5\n",
        "!wget $COMB_ELMO_BERT_URL -O ckpt/comb.ELMo-BERT-0.5736.h5"
      ],
      "execution_count": 0,
      "outputs": [
        {
          "output_type": "stream",
          "text": [
            "--2019-03-17 15:44:11--  https://s3.eu-west-2.amazonaws.com/csqa-embed/semb-0.1788.h5\n",
            "Resolving s3.eu-west-2.amazonaws.com (s3.eu-west-2.amazonaws.com)... 52.95.150.72\n",
            "Connecting to s3.eu-west-2.amazonaws.com (s3.eu-west-2.amazonaws.com)|52.95.150.72|:443... connected.\n",
            "HTTP request sent, awaiting response... 200 OK\n",
            "Length: 15536288 (15M) [application/x-www-form-urlencoded]\n",
            "Saving to: ‘ckpt/semb-0.1788.h5’\n",
            "\n",
            "\rckpt/semb-0.1788.h5   0%[                    ]       0  --.-KB/s               \rckpt/semb-0.1788.h5  75%[==============>     ]  11.12M  55.6MB/s               \rckpt/semb-0.1788.h5 100%[===================>]  14.82M  48.7MB/s    in 0.3s    \n",
            "\n",
            "2019-03-17 15:44:12 (48.7 MB/s) - ‘ckpt/semb-0.1788.h5’ saved [15536288/15536288]\n",
            "\n",
            "--2019-03-17 15:44:13--  https://s3.eu-west-2.amazonaws.com/csqa-embed/elmo-0.3333.h5\n",
            "Resolving s3.eu-west-2.amazonaws.com (s3.eu-west-2.amazonaws.com)... 52.95.150.72\n",
            "Connecting to s3.eu-west-2.amazonaws.com (s3.eu-west-2.amazonaws.com)|52.95.150.72|:443... connected.\n",
            "HTTP request sent, awaiting response... 200 OK\n",
            "Length: 1075024 (1.0M) [binary/octet-stream]\n",
            "Saving to: ‘ckpt/elmo-0.3333.h5’\n",
            "\n",
            "ckpt/elmo-0.3333.h5 100%[===================>]   1.02M  --.-KB/s    in 0.05s   \n",
            "\n",
            "2019-03-17 15:44:13 (22.0 MB/s) - ‘ckpt/elmo-0.3333.h5’ saved [1075024/1075024]\n",
            "\n",
            "--2019-03-17 15:44:15--  https://s3.eu-west-2.amazonaws.com/csqa-embed/bert-0.5340.h5\n",
            "Resolving s3.eu-west-2.amazonaws.com (s3.eu-west-2.amazonaws.com)... 52.95.150.20\n",
            "Connecting to s3.eu-west-2.amazonaws.com (s3.eu-west-2.amazonaws.com)|52.95.150.20|:443... connected.\n",
            "HTTP request sent, awaiting response... 200 OK\n",
            "Length: 440698592 (420M) [application/x-www-form-urlencoded]\n",
            "Saving to: ‘ckpt/bert-0.5340.h5’\n",
            "\n",
            "ckpt/bert-0.5340.h5 100%[===================>] 420.28M  38.5MB/s    in 12s     \n",
            "\n",
            "2019-03-17 15:44:27 (35.9 MB/s) - ‘ckpt/bert-0.5340.h5’ saved [440698592/440698592]\n",
            "\n",
            "--2019-03-17 15:44:28--  https://s3.eu-west-2.amazonaws.com/csqa-embed/comb-ALL-0.5736.h5\n",
            "Resolving s3.eu-west-2.amazonaws.com (s3.eu-west-2.amazonaws.com)... 52.95.148.76\n",
            "Connecting to s3.eu-west-2.amazonaws.com (s3.eu-west-2.amazonaws.com)|52.95.148.76|:443... connected.\n",
            "HTTP request sent, awaiting response... 200 OK\n",
            "Length: 457288912 (436M) [application/x-www-form-urlencoded]\n",
            "Saving to: ‘ckpt/comb-ALL-0.5736.h5’\n",
            "\n",
            "ckpt/comb-ALL-0.573 100%[===================>] 436.10M  52.0MB/s    in 9.5s    \n",
            "\n",
            "2019-03-17 15:44:38 (45.9 MB/s) - ‘ckpt/comb-ALL-0.5736.h5’ saved [457288912/457288912]\n",
            "\n",
            "--2019-03-17 15:44:39--  https://s3.eu-west-2.amazonaws.com/csqa-embed/comb.AVG-BERT-0.5558.h5\n",
            "Resolving s3.eu-west-2.amazonaws.com (s3.eu-west-2.amazonaws.com)... 52.95.148.48\n",
            "Connecting to s3.eu-west-2.amazonaws.com (s3.eu-west-2.amazonaws.com)|52.95.148.48|:443... connected.\n",
            "HTTP request sent, awaiting response... 200 OK\n",
            "Length: 456225844 (435M) [application/x-www-form-urlencoded]\n",
            "Saving to: ‘ckpt/comb.AVG-BERT-0.5558.h5’\n",
            "\n",
            "ckpt/comb.AVG-BERT- 100%[===================>] 435.09M  31.0MB/s    in 13s     \n",
            "\n",
            "2019-03-17 15:44:52 (34.1 MB/s) - ‘ckpt/comb.AVG-BERT-0.5558.h5’ saved [456225844/456225844]\n",
            "\n",
            "--2019-03-17 15:44:53--  https://s3.eu-west-2.amazonaws.com/csqa-embed/comb.AVG-ELMo-0.3406.h5\n",
            "Resolving s3.eu-west-2.amazonaws.com (s3.eu-west-2.amazonaws.com)... 52.95.149.24\n",
            "Connecting to s3.eu-west-2.amazonaws.com (s3.eu-west-2.amazonaws.com)|52.95.149.24|:443... connected.\n",
            "HTTP request sent, awaiting response... 200 OK\n",
            "Length: 18705552 (18M) [application/x-www-form-urlencoded]\n",
            "Saving to: ‘ckpt/comb.AVG-ELMo-0.3406.h5’\n",
            "\n",
            "ckpt/comb.AVG-ELMo- 100%[===================>]  17.84M  37.0MB/s    in 0.5s    \n",
            "\n",
            "2019-03-17 15:44:53 (37.0 MB/s) - ‘ckpt/comb.AVG-ELMo-0.3406.h5’ saved [18705552/18705552]\n",
            "\n",
            "--2019-03-17 15:44:55--  https://s3.eu-west-2.amazonaws.com/csqa-embed/comb.ELMo-BERT-0.5736.h5\n",
            "Resolving s3.eu-west-2.amazonaws.com (s3.eu-west-2.amazonaws.com)... 52.95.149.24\n",
            "Connecting to s3.eu-west-2.amazonaws.com (s3.eu-west-2.amazonaws.com)|52.95.149.24|:443... connected.\n",
            "HTTP request sent, awaiting response... 200 OK\n",
            "Length: 441764616 (421M) [application/x-www-form-urlencoded]\n",
            "Saving to: ‘ckpt/comb.ELMo-BERT-0.5736.h5’\n",
            "\n",
            "ckpt/comb.ELMo-BERT 100%[===================>] 421.30M  31.8MB/s    in 15s     \n",
            "\n",
            "2019-03-17 15:45:10 (28.3 MB/s) - ‘ckpt/comb.ELMo-BERT-0.5736.h5’ saved [441764616/441764616]\n",
            "\n"
          ],
          "name": "stdout"
        }
      ]
    },
    {
      "metadata": {
        "id": "XtatYb9aYBR8",
        "colab_type": "text"
      },
      "cell_type": "markdown",
      "source": [
        "# Define Model"
      ]
    },
    {
      "metadata": {
        "id": "_RrDP1HEhOOw",
        "colab_type": "text"
      },
      "cell_type": "markdown",
      "source": [
        "## Imports"
      ]
    },
    {
      "metadata": {
        "id": "HlXoDxB0XsEf",
        "colab_type": "code",
        "outputId": "67a0eedd-a6f4-4cdd-ab80-9795e6b1f69c",
        "colab": {
          "base_uri": "https://localhost:8080/",
          "height": 68
        }
      },
      "cell_type": "code",
      "source": [
        "import gc\n",
        "import os\n",
        "import csv\n",
        "import json\n",
        "import collections\n",
        "\n",
        "import numpy as np\n",
        "import pandas as pd\n",
        "import tensorflow as tf\n",
        "import tensorflow_hub as hub\n",
        "import tensorboardcolab as tbc\n",
        "import matplotlib.pyplot as plt\n",
        "\n",
        "from keras import utils\n",
        "from keras import layers\n",
        "from keras import models\n",
        "from keras import backend as K\n",
        "from keras import callbacks as cbs\n",
        "from keras import optimizers as opt\n",
        "from keras import initializers as ini\n",
        "from keras import preprocessing as pre\n",
        "\n",
        "import tokenization as tkz\n",
        "import run_classifier as rcf"
      ],
      "execution_count": 0,
      "outputs": [
        {
          "output_type": "stream",
          "text": [
            "WARNING: Logging before flag parsing goes to stderr.\n",
            "W0317 15:45:11.962466 140700776265600 __init__.py:56] Some hub symbols are not available because TensorFlow version is less than 1.14\n",
            "Using TensorFlow backend.\n"
          ],
          "name": "stderr"
        }
      ]
    },
    {
      "metadata": {
        "id": "BZW8jkTAlfW0",
        "colab_type": "text"
      },
      "cell_type": "markdown",
      "source": [
        "## Data Processing"
      ]
    },
    {
      "metadata": {
        "id": "umAq5aHuYwKw",
        "colab_type": "text"
      },
      "cell_type": "markdown",
      "source": [
        "### Data Example Structure"
      ]
    },
    {
      "metadata": {
        "id": "TQYXpWG0Yxl0",
        "colab_type": "code",
        "colab": {}
      },
      "cell_type": "code",
      "source": [
        "class CsQAExample(object):\n",
        "  \n",
        "  def __init__(self, uid, Q, A, label):\n",
        "    self.uid = uid\n",
        "    self.Q = Q\n",
        "    self.A = A\n",
        "    self.label = label\n",
        "    assert isinstance(A, (list, tuple)), 'A must be an instance of list or tuple'\n",
        "    assert len(A) == 5, 'length of A should be 3, but got {}'.format(len(A))\n",
        "    \n",
        "  def __str__(self):\n",
        "    return self.__repr__()\n",
        "  \n",
        "  def __repr__(self):\n",
        "    l = [\n",
        "        'uid: {}'.format(self.uid),\n",
        "        'Q: {}'.format(self.Q),\n",
        "        'A0: {}'.format(self.A[0]),\n",
        "        'A1: {}'.format(self.A[1]),\n",
        "        'A2: {}'.format(self.A[2]),\n",
        "        'A3: {}'.format(self.A[3]),\n",
        "        'A4: {}'.format(self.A[4]),\n",
        "        'label: {}'.format(self.label)\n",
        "    ]\n",
        "    return '; '.join(l)"
      ],
      "execution_count": 0,
      "outputs": []
    },
    {
      "metadata": {
        "id": "tc4Zvt0sYyNu",
        "colab_type": "text"
      },
      "cell_type": "markdown",
      "source": [
        "### Data Processor"
      ]
    },
    {
      "metadata": {
        "id": "VgZvKIrkY0lP",
        "colab_type": "code",
        "colab": {}
      },
      "cell_type": "code",
      "source": [
        "class CsQAProcessor(object):\n",
        "  \n",
        "  def get_train_examples(self, data_dir):\n",
        "    return self._create_examples(self._read_lines(os.path.join(data_dir, 'train.jsonl')))\n",
        "\n",
        "  def get_dev_examples(self, data_dir):\n",
        "    return self._create_examples(self._read_lines(os.path.join(data_dir, 'dev.jsonl')))\n",
        "\n",
        "  def get_test_examples(self, data_dir):\n",
        "    return self._create_examples(self._read_lines(os.path.join(data_dir, 'test.jsonl')))\n",
        "\n",
        "  def get_labels(self):\n",
        "    return [0, 1, 2, 3, 4]\n",
        "    \n",
        "  def _read_lines(self, path):\n",
        "    return open(path).read().split('\\n')[:-1]\n",
        "    \n",
        "  def _create_examples(self, lines):\n",
        "    ans_dict = {'A': 0, 'B': 1, 'C': 2, 'D': 3, 'E': 4}\n",
        "    examples = []\n",
        "    for line in lines:\n",
        "      d = json.loads(line)\n",
        "      uid = d['id']\n",
        "      Q = d['question']['stem']\n",
        "      A = [\n",
        "          d['question']['choices'][0]['text'],\n",
        "          d['question']['choices'][1]['text'],\n",
        "          d['question']['choices'][2]['text'],\n",
        "          d['question']['choices'][3]['text'],\n",
        "          d['question']['choices'][4]['text']\n",
        "      ]\n",
        "      label = ans_dict.get(d.get('answerKey'), -1)\n",
        "      examples.append(CsQAExample(uid, Q, A, label))\n",
        "    return examples"
      ],
      "execution_count": 0,
      "outputs": []
    },
    {
      "metadata": {
        "id": "oR6OwjPa2cgx",
        "colab_type": "text"
      },
      "cell_type": "markdown",
      "source": [
        "### Define Tokenizer"
      ]
    },
    {
      "metadata": {
        "id": "cGvOJaaWy91A",
        "colab_type": "code",
        "colab": {}
      },
      "cell_type": "code",
      "source": [
        "class SimpleTokenizer(object):\n",
        "  \n",
        "  def __init__(self, data_dir, include_set=['train', 'dev', 'test'], do_lower_case=True):\n",
        "    processor = CsQAProcessor()\n",
        "    data = []\n",
        "    if 'train' in include_set:\n",
        "      data.extend(processor.get_train_examples(data_dir))\n",
        "    if 'dev' in include_set:\n",
        "      data.extend(processor.get_dev_examples(data_dir))\n",
        "    if 'test' in include_set:\n",
        "      data.extend(processor.get_test_examples(data_dir))\n",
        "    tokens = set()\n",
        "    self.bstk = tkz.BasicTokenizer(do_lower_case)\n",
        "    for example in data:\n",
        "      Q = example.Q\n",
        "      tokens.update(self.bstk.tokenize(Q))\n",
        "      for A in example.A:\n",
        "        tokens.update(self.bstk.tokenize(A))\n",
        "    self.vocab = collections.OrderedDict()\n",
        "    self.vocab['[PAD]'] = 0\n",
        "    self.vocab['[UNK]'] = 1\n",
        "    self.vocab['[CLS]'] = 2\n",
        "    self.vocab['[SEP]'] = 3\n",
        "    index = 4\n",
        "    for token in sorted(list(tokens)):\n",
        "      self.vocab[token] = index\n",
        "    self.inv_vocab = {v: k for k, v in self.vocab.items()}\n",
        "  \n",
        "  def tokenize(self, text):\n",
        "    return self.bstk.tokenize(text)\n",
        "  \n",
        "  def convert_tokens_to_ids(self, tokens):\n",
        "    return tkz.convert_by_vocab(self.vocab, tokens)\n",
        "  \n",
        "  def convert_ids_to_tokens(self, ids):\n",
        "    return tkz.convert_by_vocab(self.inv_vocab, ids)"
      ],
      "execution_count": 0,
      "outputs": []
    },
    {
      "metadata": {
        "id": "WKSx5GC1kzT0",
        "colab_type": "text"
      },
      "cell_type": "markdown",
      "source": [
        "## Custom Layers"
      ]
    },
    {
      "metadata": {
        "id": "3Ilhn0hLi-rf",
        "colab_type": "text"
      },
      "cell_type": "markdown",
      "source": [
        "### SEmb Layer"
      ]
    },
    {
      "metadata": {
        "id": "6xbjxwKEjQ3x",
        "colab_type": "code",
        "colab": {}
      },
      "cell_type": "code",
      "source": [
        "class SEmbLayer(layers.Layer):\n",
        "  \n",
        "  def __init__(self, data_dir, embed_path, trainable=True, **kwargs):\n",
        "    self.output_dim = 300\n",
        "    self.data_dir = data_dir\n",
        "    self.embed_path = embed_path\n",
        "    self.trainable = trainable\n",
        "    super(SEmbLayer, self).__init__(**kwargs)\n",
        "    \n",
        "  def build(self, input_shape):\n",
        "    tokenizer = SimpleTokenizer(self.data_dir)\n",
        "    embed_df = pd.read_table(self.embed_path, sep=' ', header=None, index_col=0, quoting=csv.QUOTE_NONE)\n",
        "    word_embed = embed_df.loc[tokenizer.vocab.keys(), :].values\n",
        "    nan_mask = np.isnan(word_embed)\n",
        "    word_embed[nan_mask] = np.random.normal(scale=0.02, size=np.count_nonzero(nan_mask))\n",
        "    word_embed[tokenizer.convert_tokens_to_ids(['[PAD]'])] = 0.\n",
        "    word_embed = utils.normalize(word_embed)\n",
        "    voc_size, emb_dim = word_embed.shape\n",
        "    assert emb_dim == self.output_dim\n",
        "    self.embed = self.add_weight(\n",
        "        name='embeddings',\n",
        "        shape=(voc_size, emb_dim),\n",
        "        initializer=ini.Constant(word_embed),\n",
        "        trainable=self.trainable\n",
        "    )\n",
        "    super(SEmbLayer, self).build(input_shape)\n",
        "  \n",
        "  def call(self, x):\n",
        "    _, seq = K.int_shape(x)\n",
        "    mask = K.tf.count_nonzero(x, axis=-1, keepdims=True, dtype=K.tf.float32)\n",
        "    flat_x = K.reshape(x, (-1,))\n",
        "    flat_x_emb = K.gather(self.embed, flat_x)\n",
        "    x_seq = K.reshape(flat_x_emb, (-1, seq, self.output_dim))\n",
        "    feature = K.sum(x_seq, axis=1) / mask\n",
        "    return feature\n",
        "  \n",
        "  def compute_output_shape(self, input_shape):\n",
        "    return input_shape[0], self.output_dim"
      ],
      "execution_count": 0,
      "outputs": []
    },
    {
      "metadata": {
        "id": "-770Ck8KY_kC",
        "colab_type": "text"
      },
      "cell_type": "markdown",
      "source": [
        "### ELMo Layer"
      ]
    },
    {
      "metadata": {
        "id": "UoivuNbjZFYK",
        "colab_type": "code",
        "colab": {}
      },
      "cell_type": "code",
      "source": [
        "class ELMoLayer(layers.Layer):\n",
        "  \n",
        "  def __init__(self, trainable=True, **kwargs):\n",
        "    self.output_dim = 1024\n",
        "    self.trainable = trainable\n",
        "    super(ELMoLayer, self).__init__(**kwargs)\n",
        "  \n",
        "  def build(self, input_shape):\n",
        "    self.elmo = hub.Module(\n",
        "        spec='https://tfhub.dev/google/elmo/2',\n",
        "        trainable=self.trainable,\n",
        "        name='elmo_module'\n",
        "    )\n",
        "    self.trainable_weights += K.tf.trainable_variables(scope='elmo_module/.*')\n",
        "    super(ELMoLayer, self).build(input_shape)\n",
        "  \n",
        "  def call(self, x):\n",
        "    return self.elmo(\n",
        "        inputs=K.squeeze(K.cast(x, tf.string), axis=1),\n",
        "        signature='default',\n",
        "        as_dict=True\n",
        "    )['default']\n",
        "  \n",
        "  def compute_output_shape(self, input_shape):\n",
        "    return input_shape[0], self.output_dim"
      ],
      "execution_count": 0,
      "outputs": []
    },
    {
      "metadata": {
        "id": "HengkzJGFmFf",
        "colab_type": "text"
      },
      "cell_type": "markdown",
      "source": [
        "### BERT Layer"
      ]
    },
    {
      "metadata": {
        "id": "7sMMifONFow1",
        "colab_type": "code",
        "colab": {}
      },
      "cell_type": "code",
      "source": [
        "class BERTLayer(layers.Layer):\n",
        "  \n",
        "  def __init__(self, trainable=True, **kwargs):\n",
        "    self.output_dim = 768\n",
        "    self.trainable = trainable\n",
        "    super(BERTLayer, self).__init__(**kwargs)\n",
        "  \n",
        "  def build(self, input_shape):\n",
        "    self.bert = hub.Module(\n",
        "        spec='https://tfhub.dev/google/bert_uncased_L-12_H-768_A-12/1',\n",
        "        trainable=self.trainable,\n",
        "        name='bert_module'\n",
        "    )\n",
        "    self.trainable_weights += K.tf.trainable_variables(scope='bert_module/bert/.*')\n",
        "    self.non_trainable_weights += K.tf.trainable_variables(scope='bert_module/cls/.*')\n",
        "    super(BERTLayer, self).build(input_shape)\n",
        "    \n",
        "  def call(self, x):\n",
        "    input_ids, input_mask, segment_ids = K.tf.unstack(K.tf.transpose(x, perm=[1, 0, 2]))\n",
        "    bert_inputs = dict(\n",
        "        input_ids=input_ids,\n",
        "        input_mask=input_mask,\n",
        "        segment_ids=segment_ids\n",
        "    )\n",
        "    return self.bert(\n",
        "        inputs=bert_inputs,\n",
        "        signature='tokens',\n",
        "        as_dict=True\n",
        "    )['pooled_output']\n",
        "  \n",
        "  def compute_output_shape(self, input_shape):\n",
        "    return input_shape[0], self.output_dim"
      ],
      "execution_count": 0,
      "outputs": []
    },
    {
      "metadata": {
        "id": "khyd4eGclF8e",
        "colab_type": "text"
      },
      "cell_type": "markdown",
      "source": [
        "## Feature Extraction"
      ]
    },
    {
      "metadata": {
        "id": "IN22E6xo10eR",
        "colab_type": "text"
      },
      "cell_type": "markdown",
      "source": [
        "### SEmb Feature Extraction Function\n",
        "\n",
        "( FLAG: Flag ) -> lambda"
      ]
    },
    {
      "metadata": {
        "id": "hTd2-8EO15Es",
        "colab_type": "code",
        "colab": {}
      },
      "cell_type": "code",
      "source": [
        "def get_semb_feature(FLAG):\n",
        "  semb = SEmbLayer(data_dir=FLAG.data_dir, embed_path=FLAG.embed_path, name='semb_layer')\n",
        "  return lambda x: semb(x)"
      ],
      "execution_count": 0,
      "outputs": []
    },
    {
      "metadata": {
        "id": "HP1fl7KjXNsU",
        "colab_type": "text"
      },
      "cell_type": "markdown",
      "source": [
        "### ELMo Feature Extraction Function\n",
        "\n",
        "( drop_rate: float ) -> lambda"
      ]
    },
    {
      "metadata": {
        "id": "lOZWo8oeXPS_",
        "colab_type": "code",
        "colab": {}
      },
      "cell_type": "code",
      "source": [
        "def get_elmo_feature():\n",
        "  elmo = ELMoLayer(name='elmo_layer')\n",
        "  out = layers.Dense(256, activation='tanh', name='elmo_dense') # 256\n",
        "  return lambda x: out(elmo(x))"
      ],
      "execution_count": 0,
      "outputs": []
    },
    {
      "metadata": {
        "id": "tHy3N4b3ZRo0",
        "colab_type": "text"
      },
      "cell_type": "markdown",
      "source": [
        "### BERT Feature Extraction Function\n",
        "\n",
        "( ) -> lambda"
      ]
    },
    {
      "metadata": {
        "id": "2glHy0keZV8z",
        "colab_type": "code",
        "colab": {}
      },
      "cell_type": "code",
      "source": [
        "def get_bert_feature():\n",
        "  bert = BERTLayer(name='bert_layer')\n",
        "  return lambda x: bert(x)"
      ],
      "execution_count": 0,
      "outputs": []
    },
    {
      "metadata": {
        "id": "Xe1inMNVX-Uu",
        "colab_type": "text"
      },
      "cell_type": "markdown",
      "source": [
        "## Output Function\n",
        "\n",
        "( drop_rate: float, name: str ) -> lambda"
      ]
    },
    {
      "metadata": {
        "id": "AZxM0NljYArl",
        "colab_type": "code",
        "colab": {}
      },
      "cell_type": "code",
      "source": [
        "def get_output_layer(drop_rate=0.1, name=None):\n",
        "  drop = layers.Dropout(drop_rate, name='{}_output_dropout'.format(name))\n",
        "  out = layers.Dense(1, name='{}_output_dense'.format(name))\n",
        "  return lambda x: out(drop(x))"
      ],
      "execution_count": 0,
      "outputs": []
    },
    {
      "metadata": {
        "id": "vld1M6mqfifY",
        "colab_type": "text"
      },
      "cell_type": "markdown",
      "source": [
        "## Define Models\n",
        "\n",
        "( FLAG: Flag ) -> tuple"
      ]
    },
    {
      "metadata": {
        "id": "M3dZ-YE3l3q1",
        "colab_type": "code",
        "colab": {}
      },
      "cell_type": "code",
      "source": [
        "def build_model(FLAG):\n",
        "  \n",
        "  # semb input interface\n",
        "  semb_inputs = [layers.Input(\n",
        "      shape=(4*FLAG.max_seq_length,),\n",
        "      dtype='int32',\n",
        "      name='semb_input_{}'.format(n)\n",
        "  ) for n in range(FLAG.n_choices)]\n",
        "  # elmo input interface\n",
        "  elmo_inputs = [layers.Input(\n",
        "      shape=(1,),\n",
        "      dtype='string',\n",
        "      name='elmo_input_{}'.format(n)\n",
        "  ) for n in range(FLAG.n_choices)]\n",
        "  # bert input interface\n",
        "  bert_inputs = [layers.Input(\n",
        "      shape=(3, FLAG.max_seq_length),\n",
        "      dtype='int32',\n",
        "      name='bert_input_{}'.format(n)\n",
        "  ) for n in range(FLAG.n_choices)]\n",
        "  \n",
        "  # feature extraction layers\n",
        "  semb = get_semb_feature(FLAG) # [B, 300]\n",
        "  elmo = get_elmo_feature() # [B, 256]\n",
        "  bert = get_bert_feature() # [B, 768]\n",
        "  \n",
        "  # semb model\n",
        "  semb_out = get_output_layer(drop_rate=FLAG.semb_output_dropout, name='semb')\n",
        "  semb_vec = [semb_out(semb(x)) for x in semb_inputs]\n",
        "  semb_res = layers.Concatenate(name='semb_choice_concat')(semb_vec)\n",
        "  semb_pred = layers.Softmax(name='semb_pred')(semb_res)\n",
        "  semb_model = models.Model(inputs=semb_inputs, outputs=semb_pred, name='semb_model')\n",
        "  \n",
        "  # elmo model\n",
        "  elmo_out = get_output_layer(drop_rate=FLAG.elmo_output_dropout, name='elmo')\n",
        "  elmo_vec = [elmo_out(elmo(x)) for x in elmo_inputs]\n",
        "  elmo_res = layers.Concatenate(name='elmo_choice_concat')(elmo_vec)\n",
        "  elmo_pred = layers.Softmax(name='elmo_pred')(elmo_res)\n",
        "  elmo_model = models.Model(inputs=elmo_inputs, outputs=elmo_pred, name='elmo_model')\n",
        "  \n",
        "  # bert model\n",
        "  bert_out = get_output_layer(drop_rate=FLAG.bert_output_dropout, name='bert')\n",
        "  bert_vec = [bert_out(bert(x)) for x in bert_inputs]\n",
        "  bert_res = layers.Concatenate(name='bert_choice_concat')(bert_vec)\n",
        "  bert_pred = layers.Softmax(name='bert_pred')(bert_res)\n",
        "  bert_model = models.Model(inputs=bert_inputs, outputs=bert_pred, name='bert_model')\n",
        "  \n",
        "  # hybrid model\n",
        "  comb_out = get_output_layer(drop_rate=FLAG.comb_output_dropout, name='comb')\n",
        "  comb_vec = []\n",
        "  for i in range(FLAG.n_choices):\n",
        "    comb_prt = []\n",
        "    if FLAG.exclude != 'SEmb':\n",
        "      comb_prt.append(semb(semb_inputs[i]))\n",
        "    if FLAG.exclude != 'ELMo':\n",
        "      comb_prt.append(elmo(elmo_inputs[i]))\n",
        "    if FLAG.exclude != 'BERT':\n",
        "      comb_prt.append(bert(bert_inputs[i]))\n",
        "    combined = layers.Concatenate(name='comb_feature_concat_{}'.format(i))(comb_prt) # Concatenate\n",
        "    comb_vec.append(comb_out(combined))\n",
        "  comb_res = layers.Concatenate(name='comb_choice_concat')(comb_vec)\n",
        "  comb_pred = layers.Softmax(name='comb_pred')(comb_res)\n",
        "  comb_model = models.Model(inputs=semb_inputs+elmo_inputs+bert_inputs, outputs=comb_pred, name='comb_model')\n",
        "  \n",
        "  return semb_model, elmo_model, bert_model, comb_model"
      ],
      "execution_count": 0,
      "outputs": []
    },
    {
      "metadata": {
        "id": "GDJRA5ikjdNr",
        "colab_type": "text"
      },
      "cell_type": "markdown",
      "source": [
        "## Data Loader\n",
        "\n",
        "( FLAG: Flag ) -> dict"
      ]
    },
    {
      "metadata": {
        "id": "fuKBxF00jfGR",
        "colab_type": "code",
        "colab": {}
      },
      "cell_type": "code",
      "source": [
        "def load_data(FLAG):\n",
        "  # load BERT tokenization info\n",
        "  bert_module = hub.Module('https://tfhub.dev/google/bert_uncased_L-12_H-768_A-12/1')\n",
        "  token_info = bert_module(signature='tokenization_info', as_dict=True)\n",
        "  with tf.Session():\n",
        "    vocab_file = token_info['vocab_file'].eval()\n",
        "    do_lower_case = token_info['do_lower_case'].eval()\n",
        "  \n",
        "  ftkz = tkz.FullTokenizer(vocab_file=vocab_file, do_lower_case=do_lower_case)\n",
        "  stkz = SimpleTokenizer(FLAG.data_dir, do_lower_case=do_lower_case)\n",
        "  \n",
        "  processor = CsQAProcessor()\n",
        "  \n",
        "  # target\n",
        "  # semb (5, N, S), int32\n",
        "  # elmo (5, N, 1), string\n",
        "  # bert (5, N, 3, S), int32\n",
        "  # label (N, 5), float32\n",
        "  \n",
        "  def to_features(examples):\n",
        "    semb_features = [] # (N, 5, S)\n",
        "    elmo_features = [] # (N, 5)\n",
        "    bert_features = [] # (N, 5, 3, S)\n",
        "    labels = [] # (N, 3)\n",
        "    for example in examples:\n",
        "      semb_feature = [] # (5, S)\n",
        "      elmo_feature = [] # (5,)\n",
        "      bert_feature = [] # (5, 3, S)\n",
        "      Q = example.Q\n",
        "      Q_stk = stkz.tokenize(Q)\n",
        "      _Q_ftk = ftkz.tokenize(Q)\n",
        "      for A in example.A:\n",
        "        # semb\n",
        "        A_stk = stkz.tokenize(A)\n",
        "        s_tokens = Q_stk + A_stk\n",
        "        s_tk_ids = stkz.convert_tokens_to_ids(s_tokens)\n",
        "        zero_pad = [0] * (4*FLAG.max_seq_length - len(s_tk_ids))\n",
        "        s_tk_ids += zero_pad\n",
        "        semb_feature.append(s_tk_ids)\n",
        "        # elmo\n",
        "        sentence = ' '.join([Q, A])\n",
        "        elmo_feature.append(sentence)\n",
        "        # bert\n",
        "        Q_tk = _Q_ftk[:]\n",
        "        A_tk = ftkz.tokenize(A)\n",
        "        rcf._truncate_seq_pair(Q_tk, A_tk, FLAG.max_seq_length-3)\n",
        "        tokens = ['[CLS]'] + Q_tk + ['[SEP]'] + A_tk + ['[SEP]']\n",
        "        input_ids = ftkz.convert_tokens_to_ids(tokens)\n",
        "        input_mask = [1] * len(input_ids)\n",
        "        segment_ids = [0] * (len(Q_tk)+2) + [1] * (len(A_tk)+1)\n",
        "        padding = [0] * (FLAG.max_seq_length - len(input_ids))\n",
        "        input_ids += padding\n",
        "        input_mask += padding\n",
        "        segment_ids += padding\n",
        "        assert len(input_ids) == FLAG.max_seq_length, 'Require {0}, actual {1}'.format(FLAG.max_seq_length, len(input_ids))\n",
        "        assert len(input_mask) == FLAG.max_seq_length, 'Require {0}, actual {1}'.format(FLAG.max_seq_length, len(input_mask))\n",
        "        assert len(segment_ids) == FLAG.max_seq_length, 'Require {0}, actual {1}'.format(FLAG.max_seq_length, len(segment_ids))\n",
        "        bert_feature.append([input_ids, input_mask, segment_ids]) # (3, S)\n",
        "      semb_features.append(semb_feature)\n",
        "      elmo_features.append(elmo_feature)\n",
        "      bert_features.append(bert_feature)\n",
        "      labels.append(np.eye(FLAG.n_choices)[example.label])\n",
        "    semb_features = np.transpose(semb_features, (1, 0, 2)).tolist() # (5, N, S)\n",
        "    elmo_features = np.transpose(elmo_features)[:,:,None].tolist() # (5, N, 1)\n",
        "    bert_features = np.transpose(bert_features, (1, 0, 2, 3)).tolist() # (5, N, 3, S)\n",
        "    semb_inputs = []\n",
        "    elmo_inputs = []\n",
        "    bert_inputs = []\n",
        "    for n in range(FLAG.n_choices):\n",
        "      semb_inputs.append(np.asarray(semb_features[n], dtype=np.int32))\n",
        "      elmo_inputs.append(np.asarray(elmo_features[n]))\n",
        "      bert_inputs.append(np.asarray(bert_features[n], dtype=np.int32))\n",
        "    label_inputs = np.asarray(labels, dtype=np.float32)\n",
        "    return semb_inputs, elmo_inputs, bert_inputs, label_inputs\n",
        "  \n",
        "  data = {'dev': {}, 'test': {}}\n",
        "  data['dev']['semb'], data['dev']['elmo'], data['dev']['bert'], data['dev']['label'] = to_features(processor.get_dev_examples(FLAG.data_dir))\n",
        "  data['dev']['comb'] = data['dev']['semb'] + data['dev']['elmo'] + data['dev']['bert']\n",
        "  data['test']['semb'], data['test']['elmo'], data['test']['bert'], _ = to_features(processor.get_test_examples(FLAG.data_dir))\n",
        "  data['test']['comb'] = data['test']['semb'] + data['test']['elmo'] + data['test']['bert']\n",
        "  \n",
        "  return data"
      ],
      "execution_count": 0,
      "outputs": []
    },
    {
      "metadata": {
        "id": "XIqGqnNjlC6M",
        "colab_type": "text"
      },
      "cell_type": "markdown",
      "source": [
        "# Run Evaluation"
      ]
    },
    {
      "metadata": {
        "id": "A11Xzea-rXdt",
        "colab_type": "text"
      },
      "cell_type": "markdown",
      "source": [
        "## Flag Class"
      ]
    },
    {
      "metadata": {
        "id": "ICHKQOH5rZva",
        "colab_type": "code",
        "colab": {}
      },
      "cell_type": "code",
      "source": [
        "class Flag(object):\n",
        "  \n",
        "  def __init__(self):\n",
        "    self.logging_level = 'ERROR'\n",
        "    self.embed_path = 'embed/glove_sm.txt'\n",
        "    self.data_dir = 'data/'\n",
        "    self.ckpt_dir = 'ckpt/'\n",
        "    self.log_dir = 'log/'\n",
        "    self.n_choices = 5\n",
        "    self.max_seq_length = 32\n",
        "    self.semb_checkpoint_path = 'ckpt/semb-0.1788.h5'\n",
        "    self.elmo_checkpoint_path = 'ckpt/elmo-0.3333.h5'\n",
        "    self.bert_checkpoint_path = 'ckpt/bert-0.5340.h5'\n",
        "    self.comb_checkpoint_path = 'ckpt/comb-ALL-0.5736.h5'\n",
        "    self.semb_output_dropout = 0.05\n",
        "    self.elmo_output_dropout = 0.05\n",
        "    self.bert_output_dropout = 0.05\n",
        "    self.comb_output_dropout = 0.1\n",
        "    self.semb_learning_rate = 1e-5\n",
        "    self.elmo_learning_rate = 1e-3\n",
        "    self.bert_learning_rate = 1e-5\n",
        "    self.comb_learning_rate = 1e-5\n",
        "    self.semb_warmup_ratio = 0.01\n",
        "    self.elmo_warmup_ratio = 0.01\n",
        "    self.bert_warmup_ratio = 0.05\n",
        "    self.comb_warmup_ratio = 0.01\n",
        "    self.semb_batch_size = 64\n",
        "    self.elmo_batch_size = 64\n",
        "    self.bert_batch_size = 32\n",
        "    self.comb_batch_size = 32\n",
        "    self.semb_granulity = 77\n",
        "    self.elmo_granulity = 77\n",
        "    self.bert_granulity = 77\n",
        "    self.comb_granulity = 10\n",
        "    self.semb_epochs = 1\n",
        "    self.elmo_epochs = 7\n",
        "    self.bert_epochs = 1\n",
        "    self.comb_epochs = 1\n",
        "    self.exclude = None\n",
        "    self.freeze_semb = False\n",
        "    self.freeze_elmo = False\n",
        "    self.freeze_bert = False\n",
        "    self.semb = False\n",
        "    self.elmo = False\n",
        "    self.bert = False\n",
        "    self.comb = False\n",
        "    \n",
        "FLAG = Flag()"
      ],
      "execution_count": 0,
      "outputs": []
    },
    {
      "metadata": {
        "id": "MLxsCd7sJb_U",
        "colab_type": "text"
      },
      "cell_type": "markdown",
      "source": [
        "## Define Exclusion"
      ]
    },
    {
      "metadata": {
        "id": "jReXDHSPJcpn",
        "colab_type": "code",
        "cellView": "both",
        "colab": {}
      },
      "cell_type": "code",
      "source": [
        "# @title Exclusive Model { run: 'auto' }\n",
        "FLAG.exclude = \"None\" # @param ['None', 'SEmb', 'ELMo', 'BERT']\n",
        "FLAG.comb_checkpoint_path = \"ckpt/comb-ALL-0.5736.h5\" # @param{type: 'string'}"
      ],
      "execution_count": 0,
      "outputs": []
    },
    {
      "metadata": {
        "id": "W6JG0UzNvabS",
        "colab_type": "text"
      },
      "cell_type": "markdown",
      "source": [
        "## Run Evaluation"
      ]
    },
    {
      "metadata": {
        "id": "Ay_urUbfYlFj",
        "colab_type": "code",
        "outputId": "9563d326-ce04-43fc-f05c-b5d84621437f",
        "colab": {
          "base_uri": "https://localhost:8080/",
          "height": 340
        }
      },
      "cell_type": "code",
      "source": [
        "tf.logging.set_verbosity(FLAG.logging_level)\n",
        "\n",
        "print('Loading data...')\n",
        "data = load_data(FLAG)\n",
        "gc.collect()\n",
        "print('Building models...')\n",
        "semb_model, elmo_model, bert_model, comb_model = build_model(FLAG)\n",
        "gc.collect()\n",
        "\n",
        "semb_model.load_weights(FLAG.semb_checkpoint_path)\n",
        "semb_model.compile(\n",
        "    loss='categorical_crossentropy',\n",
        "    optimizer=opt.Adam(lr=FLAG.semb_learning_rate),\n",
        "    metrics=['accuracy']\n",
        ")\n",
        "semb_res = semb_model.evaluate(data['dev']['semb'], data['dev']['label'])\n",
        "\n",
        "elmo_model.load_weights(FLAG.elmo_checkpoint_path)\n",
        "elmo_model.compile(\n",
        "    loss='categorical_crossentropy',\n",
        "    optimizer=opt.Adam(lr=FLAG.elmo_learning_rate),\n",
        "    metrics=['accuracy']\n",
        ")\n",
        "elmo_res = elmo_model.evaluate(data['dev']['elmo'], data['dev']['label'])\n",
        "\n",
        "bert_model.load_weights(FLAG.bert_checkpoint_path)\n",
        "bert_model.compile(\n",
        "    loss='categorical_crossentropy',\n",
        "    optimizer=opt.Adam(lr=FLAG.bert_learning_rate, clipnorm=1.),\n",
        "    metrics=['accuracy']\n",
        ")\n",
        "bert_res = bert_model.evaluate(data['dev']['bert'], data['dev']['label'])"
      ],
      "execution_count": 0,
      "outputs": [
        {
          "output_type": "stream",
          "text": [
            "Loading data...\n",
            "Building models...\n"
          ],
          "name": "stdout"
        },
        {
          "output_type": "stream",
          "text": [
            "/usr/local/lib/python3.6/dist-packages/ipykernel_launcher.py:13: FutureWarning: \n",
            "Passing list-likes to .loc or [] with any missing label will raise\n",
            "KeyError in the future, you can use .reindex() as an alternative.\n",
            "\n",
            "See the documentation here:\n",
            "http://pandas.pydata.org/pandas-docs/stable/indexing.html#deprecate-loc-reindex-listlike\n",
            "  del sys.path[0]\n",
            "/usr/local/lib/python3.6/dist-packages/pandas/core/indexing.py:1367: FutureWarning: \n",
            "Passing list-likes to .loc or [] with any missing label will raise\n",
            "KeyError in the future, you can use .reindex() as an alternative.\n",
            "\n",
            "See the documentation here:\n",
            "http://pandas.pydata.org/pandas-docs/stable/indexing.html#deprecate-loc-reindex-listlike\n",
            "  return self._getitem_tuple(key)\n"
          ],
          "name": "stderr"
        },
        {
          "output_type": "stream",
          "text": [
            "1236/1236 [==============================] - 81s 66ms/step\n",
            "1236/1236 [==============================] - 157s 127ms/step\n",
            "1236/1236 [==============================] - 129s 104ms/step\n"
          ],
          "name": "stdout"
        }
      ]
    },
    {
      "metadata": {
        "id": "v4YaLfL4Yt1j",
        "colab_type": "code",
        "colab": {
          "base_uri": "https://localhost:8080/",
          "height": 34
        },
        "outputId": "c031d173-46a1-4e50-b1d3-5e56ded106bb"
      },
      "cell_type": "code",
      "source": [
        "comb_model.load_weights(FLAG.comb_checkpoint_path)\n",
        "comb_model.compile(\n",
        "    loss='categorical_crossentropy',\n",
        "    optimizer=opt.Adam(lr=FLAG.comb_learning_rate),\n",
        "    metrics=['accuracy']\n",
        ")\n",
        "comb_res = comb_model.evaluate(data['dev']['comb'], data['dev']['label'])"
      ],
      "execution_count": 25,
      "outputs": [
        {
          "output_type": "stream",
          "text": [
            "1236/1236 [==============================] - 194s 157ms/step\n"
          ],
          "name": "stdout"
        }
      ]
    },
    {
      "metadata": {
        "id": "qfE9FFzFYwgK",
        "colab_type": "code",
        "colab": {
          "base_uri": "https://localhost:8080/",
          "height": 352
        },
        "outputId": "2a8a54fa-3709-431c-b19f-fef8e7cbbce4"
      },
      "cell_type": "code",
      "source": [
        "cols = ['AVG', 'ELMo', 'BERT', 'COMB']\n",
        "loss = [semb_res[0], elmo_res[0], bert_res[0], comb_res[0]]\n",
        "acc = [semb_res[1], elmo_res[1], bert_res[1], comb_res[1]]\n",
        "_, axes = plt.subplots(1, 2, figsize=(12, 5))\n",
        "axes[0].bar(cols, loss)\n",
        "for a, b in zip(cols, loss):\n",
        "  axes[0].text(a, b+0.05, '%.4f' % b, ha='center', va='bottom')\n",
        "axes[0].set_ylim([0, 2])\n",
        "axes[0].set_title('loss')\n",
        "axes[1].bar(cols, acc)\n",
        "for a, b in zip(cols, acc):\n",
        "  axes[1].text(a, b+0.05, '%.4f' % b, ha='center', va='bottom')\n",
        "axes[1].set_ylim([0, 0.5])\n",
        "axes[1].set_title('acc')"
      ],
      "execution_count": 38,
      "outputs": [
        {
          "output_type": "execute_result",
          "data": {
            "text/plain": [
              "Text(0.5, 1.0, 'acc')"
            ]
          },
          "metadata": {
            "tags": []
          },
          "execution_count": 38
        },
        {
          "output_type": "display_data",
          "data": {
            "image/png": "[encoded data removed]",
            "text/plain": [
              "<Figure size 864x360 with 2 Axes>"
            ]
          },
          "metadata": {
            "tags": []
          }
        }
      ]
    }
  ]
}